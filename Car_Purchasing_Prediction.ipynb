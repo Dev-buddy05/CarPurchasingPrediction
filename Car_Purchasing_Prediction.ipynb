{
 "cells": [
  {
   "cell_type": "code",
   "execution_count": 2,
   "metadata": {},
   "outputs": [],
   "source": [
    "import numpy as np \n",
    "import pandas as pd\n",
    "import matplotlib.pyplot as plt"
   ]
  },
  {
   "cell_type": "code",
   "execution_count": 4,
   "metadata": {},
   "outputs": [],
   "source": [
    "suv_car_df = pd.read_csv('suv_data.csv')"
   ]
  },
  {
   "cell_type": "code",
   "execution_count": 6,
   "metadata": {},
   "outputs": [
    {
     "data": {
      "text/html": [
       "<div>\n",
       "<style scoped>\n",
       "    .dataframe tbody tr th:only-of-type {\n",
       "        vertical-align: middle;\n",
       "    }\n",
       "\n",
       "    .dataframe tbody tr th {\n",
       "        vertical-align: top;\n",
       "    }\n",
       "\n",
       "    .dataframe thead th {\n",
       "        text-align: right;\n",
       "    }\n",
       "</style>\n",
       "<table border=\"1\" class=\"dataframe\">\n",
       "  <thead>\n",
       "    <tr style=\"text-align: right;\">\n",
       "      <th></th>\n",
       "      <th>User ID</th>\n",
       "      <th>Gender</th>\n",
       "      <th>Age</th>\n",
       "      <th>EstimatedSalary</th>\n",
       "      <th>Purchased</th>\n",
       "    </tr>\n",
       "  </thead>\n",
       "  <tbody>\n",
       "    <tr>\n",
       "      <th>0</th>\n",
       "      <td>15624510</td>\n",
       "      <td>Male</td>\n",
       "      <td>19</td>\n",
       "      <td>19000</td>\n",
       "      <td>0</td>\n",
       "    </tr>\n",
       "    <tr>\n",
       "      <th>1</th>\n",
       "      <td>15810944</td>\n",
       "      <td>Male</td>\n",
       "      <td>35</td>\n",
       "      <td>20000</td>\n",
       "      <td>0</td>\n",
       "    </tr>\n",
       "    <tr>\n",
       "      <th>2</th>\n",
       "      <td>15668575</td>\n",
       "      <td>Female</td>\n",
       "      <td>26</td>\n",
       "      <td>43000</td>\n",
       "      <td>0</td>\n",
       "    </tr>\n",
       "    <tr>\n",
       "      <th>3</th>\n",
       "      <td>15603246</td>\n",
       "      <td>Female</td>\n",
       "      <td>27</td>\n",
       "      <td>57000</td>\n",
       "      <td>0</td>\n",
       "    </tr>\n",
       "    <tr>\n",
       "      <th>4</th>\n",
       "      <td>15804002</td>\n",
       "      <td>Male</td>\n",
       "      <td>19</td>\n",
       "      <td>76000</td>\n",
       "      <td>0</td>\n",
       "    </tr>\n",
       "  </tbody>\n",
       "</table>\n",
       "</div>"
      ],
      "text/plain": [
       "    User ID  Gender  Age  EstimatedSalary  Purchased\n",
       "0  15624510    Male   19            19000          0\n",
       "1  15810944    Male   35            20000          0\n",
       "2  15668575  Female   26            43000          0\n",
       "3  15603246  Female   27            57000          0\n",
       "4  15804002    Male   19            76000          0"
      ]
     },
     "execution_count": 6,
     "metadata": {},
     "output_type": "execute_result"
    }
   ],
   "source": [
    "suv_car_df.head()"
   ]
  },
  {
   "cell_type": "code",
   "execution_count": 7,
   "metadata": {},
   "outputs": [
    {
     "data": {
      "text/plain": [
       "(400, 5)"
      ]
     },
     "execution_count": 7,
     "metadata": {},
     "output_type": "execute_result"
    }
   ],
   "source": [
    "suv_car_df.shape"
   ]
  },
  {
   "cell_type": "code",
   "execution_count": 8,
   "metadata": {},
   "outputs": [
    {
     "data": {
      "text/plain": [
       "0      0\n",
       "1      0\n",
       "2      0\n",
       "3      0\n",
       "4      0\n",
       "5      0\n",
       "6      0\n",
       "7      1\n",
       "8      0\n",
       "9      0\n",
       "10     0\n",
       "11     0\n",
       "12     0\n",
       "13     0\n",
       "14     0\n",
       "15     0\n",
       "16     1\n",
       "17     1\n",
       "18     1\n",
       "19     1\n",
       "20     1\n",
       "21     1\n",
       "22     1\n",
       "23     1\n",
       "24     1\n",
       "25     1\n",
       "26     1\n",
       "27     1\n",
       "28     0\n",
       "29     0\n",
       "      ..\n",
       "370    1\n",
       "371    1\n",
       "372    0\n",
       "373    1\n",
       "374    0\n",
       "375    1\n",
       "376    0\n",
       "377    0\n",
       "378    1\n",
       "379    1\n",
       "380    0\n",
       "381    1\n",
       "382    1\n",
       "383    1\n",
       "384    1\n",
       "385    1\n",
       "386    1\n",
       "387    0\n",
       "388    1\n",
       "389    1\n",
       "390    1\n",
       "391    1\n",
       "392    1\n",
       "393    1\n",
       "394    0\n",
       "395    1\n",
       "396    1\n",
       "397    1\n",
       "398    0\n",
       "399    1\n",
       "Name: Purchased, Length: 400, dtype: int64"
      ]
     },
     "execution_count": 8,
     "metadata": {},
     "output_type": "execute_result"
    }
   ],
   "source": [
    "suv_car_df['Purchased']"
   ]
  },
  {
   "cell_type": "code",
   "execution_count": 9,
   "metadata": {},
   "outputs": [],
   "source": [
    "X = suv_car_df.iloc[:,[2,3]]\n",
    "y = suv_car_df.iloc[:,4]"
   ]
  },
  {
   "cell_type": "code",
   "execution_count": 10,
   "metadata": {},
   "outputs": [
    {
     "data": {
      "text/plain": [
       "(400, 2)"
      ]
     },
     "execution_count": 10,
     "metadata": {},
     "output_type": "execute_result"
    }
   ],
   "source": [
    "X.shape"
   ]
  },
  {
   "cell_type": "code",
   "execution_count": 11,
   "metadata": {},
   "outputs": [
    {
     "data": {
      "text/plain": [
       "(400,)"
      ]
     },
     "execution_count": 11,
     "metadata": {},
     "output_type": "execute_result"
    }
   ],
   "source": [
    "y.shape"
   ]
  },
  {
   "cell_type": "code",
   "execution_count": 12,
   "metadata": {},
   "outputs": [],
   "source": [
    "# Train Test Split"
   ]
  },
  {
   "cell_type": "code",
   "execution_count": 13,
   "metadata": {},
   "outputs": [],
   "source": [
    "from sklearn.model_selection import train_test_split"
   ]
  },
  {
   "cell_type": "code",
   "execution_count": 14,
   "metadata": {},
   "outputs": [],
   "source": [
    " X_train, X_test, y_train, y_test = train_test_split(X, y, test_size=0.25, random_state=1)"
   ]
  },
  {
   "cell_type": "code",
   "execution_count": 15,
   "metadata": {},
   "outputs": [
    {
     "data": {
      "text/plain": [
       "(300, 2)"
      ]
     },
     "execution_count": 15,
     "metadata": {},
     "output_type": "execute_result"
    }
   ],
   "source": [
    "X_train.shape"
   ]
  },
  {
   "cell_type": "code",
   "execution_count": 16,
   "metadata": {},
   "outputs": [],
   "source": [
    "# Scaling"
   ]
  },
  {
   "cell_type": "code",
   "execution_count": 17,
   "metadata": {},
   "outputs": [
    {
     "name": "stderr",
     "output_type": "stream",
     "text": [
      "C:\\Users\\Wel11\\Anaconda3\\lib\\site-packages\\sklearn\\preprocessing\\data.py:645: DataConversionWarning: Data with input dtype int64 were all converted to float64 by StandardScaler.\n",
      "  return self.partial_fit(X, y)\n",
      "C:\\Users\\Wel11\\Anaconda3\\lib\\site-packages\\sklearn\\base.py:464: DataConversionWarning: Data with input dtype int64 were all converted to float64 by StandardScaler.\n",
      "  return self.fit(X, **fit_params).transform(X)\n",
      "C:\\Users\\Wel11\\Anaconda3\\lib\\site-packages\\ipykernel_launcher.py:4: DataConversionWarning: Data with input dtype int64 were all converted to float64 by StandardScaler.\n",
      "  after removing the cwd from sys.path.\n"
     ]
    }
   ],
   "source": [
    "from sklearn.preprocessing import StandardScaler\n",
    "sc = StandardScaler()\n",
    "X_train = sc.fit_transform(X_train)\n",
    "X_test = sc.transform(X_test)"
   ]
  },
  {
   "cell_type": "code",
   "execution_count": 18,
   "metadata": {},
   "outputs": [
    {
     "data": {
      "text/plain": [
       "array([[-0.11147471, -1.06666624],\n",
       "       [ 0.18274006, -0.23672956],\n",
       "       [-0.11147471,  1.4527844 ],\n",
       "       [ 0.18274006,  1.57134678],\n",
       "       [-1.09219061,  1.4527844 ],\n",
       "       [ 0.08466847, -0.11816717],\n",
       "       [-1.68062015, -0.97774445],\n",
       "       [ 1.16345596,  0.59320712],\n",
       "       [-0.60183266, -1.51127517],\n",
       "       [ 1.06538437,  2.1345181 ],\n",
       "       [-0.30761789,  0.089317  ],\n",
       "       [ 0.18274006,  0.11895759],\n",
       "       [-0.2095463 ,  0.089317  ],\n",
       "       [ 1.06538437,  1.83811214],\n",
       "       [ 1.55574232,  0.38572295],\n",
       "       [ 1.84995709,  1.89739333],\n",
       "       [ 2.24224345,  0.41536355],\n",
       "       [-0.99411902, -0.32565134],\n",
       "       [-0.89604743,  0.53392593],\n",
       "       [ 2.24224345,  0.97853487],\n",
       "       [ 0.28081165,  0.17823878],\n",
       "       [ 1.26152755,  0.56356653],\n",
       "       [ 0.67309801,  2.07523691],\n",
       "       [ 0.96731278, -0.77026028],\n",
       "       [ 0.7711696 , -1.27415041],\n",
       "       [-1.09219061, -1.60019696],\n",
       "       [ 2.04610027, -0.6516979 ],\n",
       "       [ 1.16345596,  0.14859819],\n",
       "       [ 1.55574232, -1.03702564],\n",
       "       [ 1.45767073,  1.33422201],\n",
       "       [ 0.18274006, -0.79990088],\n",
       "       [-1.77869174,  0.20787938],\n",
       "       [-1.87676333,  0.50428533],\n",
       "       [ 1.94802868,  0.14859819],\n",
       "       [-0.99411902,  0.44500414],\n",
       "       [-0.69990425,  0.32644176],\n",
       "       [-1.48447697, -1.51127517],\n",
       "       [-0.50376107,  0.50428533],\n",
       "       [ 1.26152755, -1.45199398],\n",
       "       [-1.77869174, -1.303791  ],\n",
       "       [ 0.96731278,  2.22343989],\n",
       "       [ 2.04610027,  0.94889427],\n",
       "       [-0.30761789,  1.36386261],\n",
       "       [-1.38640538, -0.08852658],\n",
       "       [ 1.84995709, -0.26637015],\n",
       "       [-0.60183266,  1.4527844 ],\n",
       "       [ 1.06538437, -1.00738505],\n",
       "       [ 0.96731278,  1.30458142],\n",
       "       [ 0.18274006,  0.29680117],\n",
       "       [ 1.45767073, -0.91846326],\n",
       "       [-1.28833379, -0.32565134],\n",
       "       [-0.01340312, -0.47385432],\n",
       "       [ 0.47695483,  0.32644176],\n",
       "       [ 0.86924119, -1.21486922],\n",
       "       [ 0.47695483,  0.11895759],\n",
       "       [-0.01340312, -0.20708896],\n",
       "       [ 2.24224345, -0.79990088],\n",
       "       [-0.11147471, -0.50349492],\n",
       "       [ 2.04610027,  0.7710507 ],\n",
       "       [ 0.57502642,  1.77883095],\n",
       "       [-0.99411902,  0.59320712],\n",
       "       [-1.38640538,  0.38572295],\n",
       "       [ 0.08466847,  1.27494082],\n",
       "       [-0.2095463 , -0.56277611],\n",
       "       [-0.11147471,  0.88961308],\n",
       "       [-0.01340312,  2.22343989],\n",
       "       [-1.09219061, -1.00738505],\n",
       "       [ 0.47695483,  0.0300358 ],\n",
       "       [ 0.57502642,  1.89739333],\n",
       "       [ 0.08466847, -0.56277611],\n",
       "       [ 0.86924119,  0.80069129],\n",
       "       [-0.2095463 , -0.74061968],\n",
       "       [ 0.08466847,  1.30458142],\n",
       "       [ 0.18274006,  0.0596764 ],\n",
       "       [-1.09219061, -0.50349492],\n",
       "       [ 1.65381391,  1.15637844],\n",
       "       [-0.40568948, -0.53313551],\n",
       "       [-1.09219061, -1.57055636],\n",
       "       [-0.69990425,  0.53392593],\n",
       "       [-0.2095463 , -0.26637015],\n",
       "       [-0.79797584, -1.21486922],\n",
       "       [ 0.7711696 , -1.39271279],\n",
       "       [ 0.86924119,  1.4231438 ],\n",
       "       [-0.50376107, -1.51127517],\n",
       "       [-1.48447697,  0.35608236],\n",
       "       [-1.1902622 ,  0.53392593],\n",
       "       [ 1.06538437, -1.06666624],\n",
       "       [-0.2095463 , -0.32565134],\n",
       "       [ 0.96731278, -1.36307219],\n",
       "       [-1.09219061, -1.09630683],\n",
       "       [-0.50376107,  1.95667452],\n",
       "       [ 2.24224345, -1.03702564],\n",
       "       [ 1.45767073, -1.42235339],\n",
       "       [ 0.08466847, -0.41457313],\n",
       "       [-1.1902622 ,  0.62284772],\n",
       "       [ 2.04610027, -0.91846326],\n",
       "       [ 1.16345596,  0.56356653],\n",
       "       [-0.01340312,  0.26716057],\n",
       "       [-0.2095463 ,  0.23751997],\n",
       "       [-0.30761789, -0.77026028]])"
      ]
     },
     "execution_count": 18,
     "metadata": {},
     "output_type": "execute_result"
    }
   ],
   "source": [
    "X_test"
   ]
  },
  {
   "cell_type": "code",
   "execution_count": 19,
   "metadata": {},
   "outputs": [],
   "source": [
    "# Train Model"
   ]
  },
  {
   "cell_type": "code",
   "execution_count": 20,
   "metadata": {},
   "outputs": [],
   "source": [
    "from sklearn.linear_model import LogisticRegression\n",
    "model = LogisticRegression()"
   ]
  },
  {
   "cell_type": "code",
   "execution_count": 21,
   "metadata": {},
   "outputs": [
    {
     "name": "stderr",
     "output_type": "stream",
     "text": [
      "C:\\Users\\Wel11\\Anaconda3\\lib\\site-packages\\sklearn\\linear_model\\logistic.py:433: FutureWarning: Default solver will be changed to 'lbfgs' in 0.22. Specify a solver to silence this warning.\n",
      "  FutureWarning)\n"
     ]
    },
    {
     "data": {
      "text/plain": [
       "LogisticRegression(C=1.0, class_weight=None, dual=False, fit_intercept=True,\n",
       "          intercept_scaling=1, max_iter=100, multi_class='warn',\n",
       "          n_jobs=None, penalty='l2', random_state=None, solver='warn',\n",
       "          tol=0.0001, verbose=0, warm_start=False)"
      ]
     },
     "execution_count": 21,
     "metadata": {},
     "output_type": "execute_result"
    }
   ],
   "source": [
    "model.fit(X_train,y_train)"
   ]
  },
  {
   "cell_type": "code",
   "execution_count": 22,
   "metadata": {},
   "outputs": [],
   "source": [
    "train_y_pred = model.predict(X_train)\n",
    "test_y_pred = model.predict(X_test)"
   ]
  },
  {
   "cell_type": "code",
   "execution_count": 23,
   "metadata": {},
   "outputs": [],
   "source": [
    "#Accuracy Score of Model"
   ]
  },
  {
   "cell_type": "code",
   "execution_count": 24,
   "metadata": {},
   "outputs": [
    {
     "name": "stdout",
     "output_type": "stream",
     "text": [
      "Train set accuracy is : 0.8433333333333334\n",
      "Test set accuracy is  0.84\n"
     ]
    }
   ],
   "source": [
    "from sklearn.metrics import accuracy_score\n",
    "print(\"Train set accuracy is :\",accuracy_score(train_y_pred,y_train))\n",
    "print('Test set accuracy is ',accuracy_score(test_y_pred,y_test))"
   ]
  },
  {
   "cell_type": "code",
   "execution_count": 25,
   "metadata": {},
   "outputs": [],
   "source": [
    "#Confusion Matrix"
   ]
  },
  {
   "cell_type": "code",
   "execution_count": 26,
   "metadata": {},
   "outputs": [],
   "source": [
    "from sklearn.metrics import confusion_matrix\n",
    "cf = confusion_matrix(y_test,test_y_pred)"
   ]
  },
  {
   "cell_type": "code",
   "execution_count": 27,
   "metadata": {},
   "outputs": [
    {
     "data": {
      "text/plain": [
       "array([[52,  6],\n",
       "       [10, 32]], dtype=int64)"
      ]
     },
     "execution_count": 27,
     "metadata": {},
     "output_type": "execute_result"
    }
   ],
   "source": [
    "cf"
   ]
  },
  {
   "cell_type": "code",
   "execution_count": 28,
   "metadata": {},
   "outputs": [],
   "source": [
    "#Plotting Confusion Matrix"
   ]
  },
  {
   "cell_type": "code",
   "execution_count": 29,
   "metadata": {},
   "outputs": [
    {
     "data": {
      "text/plain": [
       "<matplotlib.axes._subplots.AxesSubplot at 0x2960b714e0>"
      ]
     },
     "execution_count": 29,
     "metadata": {},
     "output_type": "execute_result"
    },
    {
     "data": {
      "image/png": "[encoded data removed]",
      "text/plain": [
       "<Figure size 432x288 with 2 Axes>"
      ]
     },
     "metadata": {
      "needs_background": "light"
     },
     "output_type": "display_data"
    }
   ],
   "source": [
    "import seaborn as sns\n",
    "sns.heatmap(cf,annot=True)"
   ]
  },
  {
   "cell_type": "code",
   "execution_count": null,
   "metadata": {},
   "outputs": [],
   "source": []
  }
 ],
 "metadata": {
  "kernelspec": {
   "display_name": "Python 3",
   "language": "python",
   "name": "python3"
  },
  "language_info": {
   "codemirror_mode": {
    "name": "ipython",
    "version": 3
   },
   "file_extension": ".py",
   "mimetype": "text/x-python",
   "name": "python",
   "nbconvert_exporter": "python",
   "pygments_lexer": "ipython3",
   "version": "3.7.3"
  }
 },
 "nbformat": 4,
 "nbformat_minor": 2
}
